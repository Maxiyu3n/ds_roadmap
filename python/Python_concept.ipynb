{
  "nbformat": 4,
  "nbformat_minor": 0,
  "metadata": {
    "colab": {
      "provenance": []
    },
    "kernelspec": {
      "name": "python3",
      "display_name": "Python 3"
    },
    "language_info": {
      "name": "python"
    }
  },
  "cells": [
    {
      "cell_type": "code",
      "execution_count": null,
      "metadata": {
        "id": "dxcJnIXauZj8"
      },
      "outputs": [],
      "source": [
        "# 1. what are the key libraries used in data science?\n"
      ]
    },
    {
      "cell_type": "markdown",
      "source": [
        "numpy,pandas,matplotlib,seaborn,scipy,scikit-learn,flask"
      ],
      "metadata": {
        "id": "uUwSg2T647ti"
      }
    },
    {
      "cell_type": "code",
      "source": [
        "# 2. what is the print() function used in python?\n"
      ],
      "metadata": {
        "id": "S9kkT3385C1S"
      },
      "execution_count": null,
      "outputs": []
    },
    {
      "cell_type": "markdown",
      "source": [
        "display output to the console"
      ],
      "metadata": {
        "id": "Of4_uxbc4X-g"
      }
    },
    {
      "cell_type": "code",
      "source": [
        "# 3. difference between mutable and immutable obejects in python?\n"
      ],
      "metadata": {
        "id": "fV-o-v6557h5"
      },
      "execution_count": null,
      "outputs": []
    },
    {
      "cell_type": "markdown",
      "source": [
        "main diff: whether they can be modified after creations"
      ],
      "metadata": {
        "id": "dOul2tBhCm9v"
      }
    },
    {
      "cell_type": "code",
      "source": [
        "# 4. difference between a list and a tuple in python?\n"
      ],
      "metadata": {
        "id": "XdErS9VN6L5t"
      },
      "execution_count": null,
      "outputs": []
    },
    {
      "cell_type": "markdown",
      "source": [
        "key difference: list is mutable, tuple is immutable.  elements in list can be modified while tuples can not be changed once created."
      ],
      "metadata": {
        "id": "1FPsYYPRFY09"
      }
    },
    {
      "cell_type": "code",
      "source": [
        "# 5. what are Python's slicing operations and how can use them with dataset?"
      ],
      "metadata": {
        "id": "p-uzcJAV6nIC"
      },
      "execution_count": null,
      "outputs": []
    },
    {
      "cell_type": "code",
      "source": [
        "extract subsets of data sequence like lists, strings, arrays"
      ],
      "metadata": {
        "id": "n6S9Z5Y_G-eM"
      },
      "execution_count": null,
      "outputs": []
    },
    {
      "cell_type": "code",
      "source": [
        "# 6. How can you handle missing values in python?"
      ],
      "metadata": {
        "id": "M3j8gUrG7WIy"
      },
      "execution_count": null,
      "outputs": []
    },
    {
      "cell_type": "markdown",
      "source": [
        "using pandas to deal with nan values. dropna, fillna"
      ],
      "metadata": {
        "id": "uyoRq3Y9KirH"
      }
    },
    {
      "cell_type": "code",
      "source": [
        "# 7. explain the use of list comprehension"
      ],
      "metadata": {
        "id": "XPChFnUv7c9W"
      },
      "execution_count": null,
      "outputs": []
    },
    {
      "cell_type": "markdown",
      "source": [
        "use a single line of code to create list in python, replace multiple-lines loops"
      ],
      "metadata": {
        "id": "g3KwcL83N4rN"
      }
    },
    {
      "cell_type": "code",
      "source": [
        "# 8. differece between a list and a numpy array?"
      ],
      "metadata": {
        "id": "G_SbwW3Y7pBQ"
      },
      "execution_count": null,
      "outputs": []
    },
    {
      "cell_type": "markdown",
      "source": [
        "list:general-purpose container, numpy arrays are optimized for numerical"
      ],
      "metadata": {
        "id": "Uxmn4tliQFOc"
      }
    },
    {
      "cell_type": "code",
      "source": [
        "# 9. How do you work with tuple?"
      ],
      "metadata": {
        "id": "k3InoSsrBeNz"
      },
      "execution_count": null,
      "outputs": []
    },
    {
      "cell_type": "markdown",
      "source": [
        "store elements u dont want to changed."
      ],
      "metadata": {
        "id": "iwo26MT0Ukwa"
      }
    },
    {
      "cell_type": "code",
      "source": [
        "# 10. What is the purpose of a dictionary in Python?"
      ],
      "metadata": {
        "id": "qnKOF8DTBk13"
      },
      "execution_count": null,
      "outputs": []
    },
    {
      "cell_type": "markdown",
      "source": [
        "build-in data structure used to store key-value pairs, its good for u to map one set of information to another."
      ],
      "metadata": {
        "id": "ORexxulFUkJ1"
      }
    },
    {
      "cell_type": "code",
      "source": [
        "# 11. How do you create and use sets in python?"
      ],
      "metadata": {
        "id": "_lCVn3C5WKQm"
      },
      "execution_count": null,
      "outputs": []
    },
    {
      "cell_type": "markdown",
      "source": [
        "set is unorder collection of unique items, curly brace"
      ],
      "metadata": {
        "id": "Ih45x_vEYrc9"
      }
    },
    {
      "cell_type": "code",
      "source": [
        "# 12. what the difference between deep copy and shallow copy?\n"
      ],
      "metadata": {
        "id": "ip5U-8S5XpHH"
      },
      "execution_count": 1,
      "outputs": []
    },
    {
      "cell_type": "markdown",
      "source": [
        "shallow copy: changes to mutable objects within copied object affect the original.\n",
        "deep copy: changes to the deepcopy do not affect the original object."
      ],
      "metadata": {
        "id": "KlEK16YfXrJH"
      }
    },
    {
      "cell_type": "code",
      "source": [
        "# 13. How do you sort a list a dictionaries by a key?"
      ],
      "metadata": {
        "id": "zg8DltRgXpAQ"
      },
      "execution_count": 2,
      "outputs": []
    },
    {
      "cell_type": "markdown",
      "source": [
        "use python build-in sorted() function, often combine with a lambda function\n",
        "\n",
        "sorted_data = sorted(data, key = lambda x: x['age'])"
      ],
      "metadata": {
        "id": "RXVQCnJlZJ9k"
      }
    },
    {
      "cell_type": "code",
      "source": [
        "# 14. what is a lambda function in python ?\n"
      ],
      "metadata": {
        "id": "Pe8EmTwXYls7"
      },
      "execution_count": 3,
      "outputs": []
    },
    {
      "cell_type": "markdown",
      "source": [
        "It's an anonymous, one-line function defined used the lambda key word. Its used when you need a simple function,ususally work with filter(), map(),sorted()"
      ],
      "metadata": {
        "id": "gROG9SurZw_g"
      }
    },
    {
      "cell_type": "code",
      "source": [],
      "metadata": {
        "id": "i846-l4NZwRn"
      },
      "execution_count": null,
      "outputs": []
    }
  ]
}